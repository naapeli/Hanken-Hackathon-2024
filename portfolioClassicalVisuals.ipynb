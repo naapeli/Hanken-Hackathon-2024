{
 "cells": [
  {
   "cell_type": "code",
   "execution_count": 1,
   "metadata": {},
   "outputs": [],
   "source": [
    "from classicalOptimisation import branch_and_bound\n",
    "from MeanAndCovarianceForming import form_optimisation_matricies\n",
    "import pandas as pd\n",
    "import numpy as np \n",
    "import matplotlib.pyplot as plt "
   ]
  },
  {
   "cell_type": "code",
   "execution_count": 15,
   "metadata": {},
   "outputs": [
    {
     "name": "stderr",
     "output_type": "stream",
     "text": [
      "[*********************100%***********************]  10 of 10 completed\n"
     ]
    },
    {
     "name": "stdout",
     "output_type": "stream",
     "text": [
      "* model Portfolio_Optimization solved with objective = 0.001\n",
      "*  KPI: ROI      = 0.001\n",
      "*  KPI: Variance = 0.002\n"
     ]
    }
   ],
   "source": [
    "\"\"\"\n",
    "Forming portfolio data to optimize\n",
    "\"\"\"\n",
    "\n",
    "stocks = [\"AMZN\", \"PM\", \"CVX\", \"PFE\", \"TSLA\", \"JPM\", \"V\", \"GOOGL\", \"NFLX\", \"XOM\"]\n",
    "\n",
    "mean, covariance, constraint_matrix, constraint_vector = form_optimisation_matricies([\"AMZN\", \"PM\", \"CVX\", \"PFE\", \"TSLA\", \"JPM\", \"V\", \"GOOGL\", \"NFLX\", \"XOM\"], \"2022-01-01\", '2023-10-01', 0.5, 0.5, 0.5, 0.5, 4.0)\n",
    "\n",
    "portfolio = branch_and_bound(means=mean, covariance_matrix=covariance, tickers=stocks, object='R')\n",
    "\n"
   ]
  },
  {
   "cell_type": "code",
   "execution_count": 26,
   "metadata": {},
   "outputs": [
    {
     "data": {
      "text/html": [
       "<div>\n",
       "<style scoped>\n",
       "    .dataframe tbody tr th:only-of-type {\n",
       "        vertical-align: middle;\n",
       "    }\n",
       "\n",
       "    .dataframe tbody tr th {\n",
       "        vertical-align: top;\n",
       "    }\n",
       "\n",
       "    .dataframe thead th {\n",
       "        text-align: right;\n",
       "    }\n",
       "</style>\n",
       "<table border=\"1\" class=\"dataframe\">\n",
       "  <thead>\n",
       "    <tr style=\"text-align: right;\">\n",
       "      <th></th>\n",
       "      <th>mean</th>\n",
       "    </tr>\n",
       "  </thead>\n",
       "  <tbody>\n",
       "    <tr>\n",
       "      <th>PFE</th>\n",
       "      <td>-0.001372</td>\n",
       "    </tr>\n",
       "    <tr>\n",
       "      <th>NFLX</th>\n",
       "      <td>-0.000334</td>\n",
       "    </tr>\n",
       "    <tr>\n",
       "      <th>TSLA</th>\n",
       "      <td>-0.000330</td>\n",
       "    </tr>\n",
       "    <tr>\n",
       "      <th>AMZN</th>\n",
       "      <td>-0.000174</td>\n",
       "    </tr>\n",
       "    <tr>\n",
       "      <th>JPM</th>\n",
       "      <td>-0.000091</td>\n",
       "    </tr>\n",
       "    <tr>\n",
       "      <th>PM</th>\n",
       "      <td>0.000005</td>\n",
       "    </tr>\n",
       "    <tr>\n",
       "      <th>GOOGL</th>\n",
       "      <td>0.000017</td>\n",
       "    </tr>\n",
       "    <tr>\n",
       "      <th>V</th>\n",
       "      <td>0.000219</td>\n",
       "    </tr>\n",
       "    <tr>\n",
       "      <th>CVX</th>\n",
       "      <td>0.000843</td>\n",
       "    </tr>\n",
       "    <tr>\n",
       "      <th>XOM</th>\n",
       "      <td>0.001426</td>\n",
       "    </tr>\n",
       "  </tbody>\n",
       "</table>\n",
       "</div>"
      ],
      "text/plain": [
       "           mean\n",
       "PFE   -0.001372\n",
       "NFLX  -0.000334\n",
       "TSLA  -0.000330\n",
       "AMZN  -0.000174\n",
       "JPM   -0.000091\n",
       "PM     0.000005\n",
       "GOOGL  0.000017\n",
       "V      0.000219\n",
       "CVX    0.000843\n",
       "XOM    0.001426"
      ]
     },
     "execution_count": 26,
     "metadata": {},
     "output_type": "execute_result"
    }
   ],
   "source": [
    "stock_data = {\n",
    "    'mean': mean,\n",
    "}\n",
    "\n",
    "df = pd.DataFrame(stock_data, index=stocks)\n",
    "\n",
    "# Sort the DataFrame by the 'mean' column in ascending order\n",
    "df_sorted = df.sort_values(by='mean')\n",
    "\n",
    "# Display the sorted DataFrame\n",
    "df_sorted"
   ]
  },
  {
   "cell_type": "code",
   "execution_count": null,
   "metadata": {},
   "outputs": [],
   "source": []
  },
  {
   "cell_type": "code",
   "execution_count": 16,
   "metadata": {},
   "outputs": [],
   "source": [
    "def display_pie(pie_values, pie_labels, colors=None,title=''):\n",
    "    plt.axis(\"equal\")\n",
    "    plt.pie(pie_values, labels=pie_labels, colors=colors, autopct=\"%1.1f%%\")\n",
    "    plt.title(title)\n",
    "    plt.show()"
   ]
  },
  {
   "cell_type": "code",
   "execution_count": 17,
   "metadata": {},
   "outputs": [
    {
     "name": "stdout",
     "output_type": "stream",
     "text": [
      "Portfolio allocation in: AMZN        : 0.00%\n",
      "Portfolio allocation in: PM          : 0.00%\n",
      "Portfolio allocation in: CVX         : 0.00%\n",
      "Portfolio allocation in: PFE         : 0.00%\n",
      "Portfolio allocation in: TSLA        : 0.00%\n",
      "Portfolio allocation in: JPM         : 0.00%\n",
      "Portfolio allocation in: V           : 0.00%\n",
      "Portfolio allocation in: GOOGL       : 0.00%\n",
      "Portfolio allocation in: NFLX        : 0.00%\n",
      "Portfolio allocation in: XOM         : 100.00%\n"
     ]
    },
    {
     "data": {
      "image/png": "[encoded data removed]",
      "text/plain": [
       "<Figure size 640x480 with 1 Axes>"
      ]
     },
     "metadata": {},
     "output_type": "display_data"
    }
   ],
   "source": [
    "all_fracs = {}\n",
    "for row in portfolio.itertuples():\n",
    "    pct = 100 * row.frac.solution_value\n",
    "    all_fracs[row[0]] = pct\n",
    "    print('Portfolio allocation in: {0:<12}: {1:.2f}%'.format(row[0], pct))\n",
    "                \n",
    "display_pie( list(all_fracs.values()), list(all_fracs),title='Portfolio Allocation')"
   ]
  },
  {
   "cell_type": "code",
   "execution_count": 23,
   "metadata": {},
   "outputs": [
    {
     "data": {
      "text/plain": [
       "array([-1.73967845e-04,  5.00296691e-06,  8.43054801e-04, -1.37203100e-03,\n",
       "       -3.29945387e-04, -9.12441407e-05,  2.19284267e-04,  1.66812606e-05,\n",
       "       -3.33918770e-04,  1.42597006e-03])"
      ]
     },
     "execution_count": 23,
     "metadata": {},
     "output_type": "execute_result"
    }
   ],
   "source": [
    "mean"
   ]
  },
  {
   "cell_type": "code",
   "execution_count": null,
   "metadata": {},
   "outputs": [],
   "source": []
  }
 ],
 "metadata": {
  "kernelspec": {
   "display_name": "venv",
   "language": "python",
   "name": "python3"
  },
  "language_info": {
   "codemirror_mode": {
    "name": "ipython",
    "version": 3
   },
   "file_extension": ".py",
   "mimetype": "text/x-python",
   "name": "python",
   "nbconvert_exporter": "python",
   "pygments_lexer": "ipython3",
   "version": "3.10.11"
  }
 },
 "nbformat": 4,
 "nbformat_minor": 2
}
